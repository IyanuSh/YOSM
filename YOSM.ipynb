{
  "nbformat": 4,
  "nbformat_minor": 0,
  "metadata": {
    "colab": {
      "name": "YOSM.ipynb",
      "provenance": []
    },
    "kernelspec": {
      "name": "python3",
      "display_name": "Python 3"
    },
    "language_info": {
      "name": "python"
    }
  },
  "cells": [
    {
      "cell_type": "markdown",
      "source": [
        "# Mount Google Drive\n"
      ],
      "metadata": {
        "id": "u99ppKqpVxPn"
      }
    },
    {
      "cell_type": "code",
      "source": [
        "from google.colab import drive\n",
        "drive.mount('/gdrive')"
      ],
      "metadata": {
        "id": "6wvlTi3CV4YE"
      },
      "execution_count": null,
      "outputs": []
    },
    {
      "cell_type": "markdown",
      "source": [
        "# Clone YOSM GitHub Repo"
      ],
      "metadata": {
        "id": "ZLCE_k3JV9Ss"
      }
    },
    {
      "cell_type": "code",
      "source": [
        "%cd /content/drive/MyDrive/\n",
        "\n",
        "!git clone https://github.com/IyanuSh/YOSM"
      ],
      "metadata": {
        "id": "GCZCaXztWDpE"
      },
      "execution_count": null,
      "outputs": []
    },
    {
      "cell_type": "markdown",
      "source": [
        "# Install Requirements"
      ],
      "metadata": {
        "id": "Xmw0jCg0WK2C"
      }
    },
    {
      "cell_type": "code",
      "source": [
        "#Install requirements\n",
        "!pip install transformers scikit-learn ptvsd"
      ],
      "metadata": {
        "id": "ngOqkiDJWDwG"
      },
      "execution_count": null,
      "outputs": []
    },
    {
      "cell_type": "code",
      "source": [
        "#Install sentencepiece\n",
        "!pip install sentencepiece"
      ],
      "metadata": {
        "id": "8zL5cIMIWD4t"
      },
      "execution_count": null,
      "outputs": []
    },
    {
      "cell_type": "markdown",
      "source": [
        "# Train Sentiment Models using scripts"
      ],
      "metadata": {
        "id": "9xMI0113WoJJ"
      }
    },
    {
      "cell_type": "code",
      "source": [
        "#training afriberta on YOSM\n",
        "%cd /content/YOSM\n",
        "!bash afriberta.sh\n"
      ],
      "metadata": {
        "id": "ksMor8KBWo6B"
      },
      "execution_count": null,
      "outputs": []
    },
    {
      "cell_type": "code",
      "source": [
        "%cd /content/YOSM\n",
        "!bash mbert.sh"
      ],
      "metadata": {
        "id": "Pnmkv8k5W0ND"
      },
      "execution_count": null,
      "outputs": []
    },
    {
      "cell_type": "code",
      "source": [
        "%cd /content/YOSM\n",
        "!bash yobert.sh"
      ],
      "metadata": {
        "id": "kVE-zGxgW0P6"
      },
      "execution_count": null,
      "outputs": []
    },
    {
      "cell_type": "code",
      "source": [
        "%cd /content/YOSM\n",
        "!bash rembert.sh"
      ],
      "metadata": {
        "id": "3KTQHgTfW0WY"
      },
      "execution_count": null,
      "outputs": []
    }
  ]
}